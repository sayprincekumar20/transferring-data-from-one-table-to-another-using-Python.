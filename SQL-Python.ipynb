{
 "cells": [
  {
   "cell_type": "code",
   "execution_count": 1,
   "id": "492e9327",
   "metadata": {},
   "outputs": [
    {
     "name": "stdout",
     "output_type": "stream",
     "text": [
      "Requirement already satisfied: mysql-connector-python in c:\\users\\prince_singh04\\anaconda3\\lib\\site-packages (9.0.0)\n",
      "Note: you may need to restart the kernel to use updated packages.\n"
     ]
    }
   ],
   "source": [
    "pip install --upgrade mysql-connector-python\n"
   ]
  },
  {
   "cell_type": "code",
   "execution_count": 2,
   "id": "7ac4b44e",
   "metadata": {},
   "outputs": [],
   "source": [
    "import mysql.connector"
   ]
  },
  {
   "cell_type": "code",
   "execution_count": 3,
   "id": "bcc4f44d",
   "metadata": {},
   "outputs": [
    {
     "name": "stdout",
     "output_type": "stream",
     "text": [
      "Successfully connected to the database server\n",
      "Database `NEWSINFO` dropped successfully\n",
      "Database `NEWSINFO` created successfully\n"
     ]
    }
   ],
   "source": [
    "from mysql.connector import Error\n",
    "\n",
    "try:\n",
    "    # Establishing the connection\n",
    "    conn = mysql.connector.connect(user='root', password='123', host='localhost')\n",
    "\n",
    "    if conn.is_connected():\n",
    "        print(\"Successfully connected to the database server\")\n",
    "\n",
    "        # Creating a cursor object using the cursor() method\n",
    "        cursor = conn.cursor()\n",
    "\n",
    "        # Dropping the database if it exists\n",
    "        cursor.execute(\"DROP DATABASE IF EXISTS NEWSINFO\")\n",
    "        print(\"Database `NEWSINFO` dropped successfully\")\n",
    "\n",
    "        # Preparing query to create a database\n",
    "        sql = \"CREATE DATABASE NEWSINFO\"\n",
    "\n",
    "        # Creating a database\n",
    "        cursor.execute(sql)\n",
    "        print(\"Database `NEWSINFO` created successfully\")\n",
    "\n",
    "except Error as e:\n",
    "    print(f\"Error: {e}\")\n"
   ]
  },
  {
   "cell_type": "code",
   "execution_count": 4,
   "id": "d70e7579",
   "metadata": {},
   "outputs": [
    {
     "name": "stdout",
     "output_type": "stream",
     "text": [
      "LIst of databases: \n",
      "[('coffee shop store',), ('information_schema',), ('mysql',), ('newsinfo',), ('performance_schema',), ('sql_joins',), ('sql_workbench',), ('sys',)]\n"
     ]
    }
   ],
   "source": [
    "# Retrieving the list of databases\n",
    "print(\"LIst of databases: \")\n",
    "cursor.execute(\"SHOW DATABASES\")\n",
    "print(cursor.fetchall())\n"
   ]
  },
  {
   "cell_type": "code",
   "execution_count": 5,
   "id": "f747765a",
   "metadata": {},
   "outputs": [
    {
     "name": "stdout",
     "output_type": "stream",
     "text": [
      "Table `news` created successfully\n",
      "Table `kf_docmnt` created successfully\n"
     ]
    }
   ],
   "source": [
    "# selected database for creating a table\n",
    "cursor.execute(\"USE NEWSINFO\")\n",
    "\n",
    "# Dropping news table if exists.\n",
    "cursor.execute(\"DROP TABLE IF EXISTS NEWS\")\n",
    "\n",
    "# Creating  table as per requirement.\n",
    "create_news_table = \"\"\" CREATE TABLE NEWS(\n",
    "                newsid INT AUTO_INCREMENT PRIMARY KEY,\n",
    "                portalid INT NOT NULL,\n",
    "                town VARCHAR(255) NOT NULL,\n",
    "                news TEXT NOT NULL,\n",
    "                date DATE NOT NULL\n",
    "    )\"\"\"\n",
    "cursor.execute(create_news_table)\n",
    "print(\"Table `news` created successfully\")\n",
    "\n",
    "# Dropping kf_docmnt table if exists.\n",
    "cursor.execute(\"DROP TABLE IF EXISTS kf_docmnt\")\n",
    "\n",
    "create_kf_docmnt_table= \"\"\"CREATE TABLE kf_docmnt(\n",
    "                kfid INT AUTO_INCREMENT PRIMARY KEY,\n",
    "                portalid INT NOT NULL,\n",
    "                town VARCHAR(255) NOT NULL,\n",
    "                news TEXT NOT NULL,\n",
    "                date DATE NOT NULL\n",
    "                )\"\"\"\n",
    "\n",
    "cursor.execute(create_kf_docmnt_table)\n",
    "print(\"Table `kf_docmnt` created successfully\")"
   ]
  },
  {
   "cell_type": "code",
   "execution_count": 6,
   "id": "463cff60",
   "metadata": {},
   "outputs": [
    {
     "name": "stdout",
     "output_type": "stream",
     "text": [
      "Successfully connected to the database server\n",
      "5 rows of data inserted into `news` table\n"
     ]
    }
   ],
   "source": [
    "from mysql.connector import Error\n",
    "\n",
    "try:\n",
    "    # Use the existing connection\n",
    "    if conn.is_connected():\n",
    "        print(\"Successfully connected to the database server\")\n",
    "        \n",
    "        # Creating a cursor object using the cursor() method\n",
    "        cursor = conn.cursor()\n",
    "        \n",
    "        # Inserting 5 rows into the `news` table with data from Indian cities\n",
    "        insert_news_data = \"\"\"\n",
    "        INSERT INTO news (portalid, town, news, date) VALUES\n",
    "        (%s, %s, %s, %s)\n",
    "        \"\"\"\n",
    "        news_data = [\n",
    "            (1, 'Delhi', 'Delhi government announces new policies.', '2024-09-01'),\n",
    "            (2, 'Mumbai', 'Mumbai sees a rise in local events this month.', '2024-09-02'),\n",
    "            (3, 'Bengaluru', 'Tech startups in Bengaluru receive new funding.', '2024-09-03'),\n",
    "            (4, 'Chennai', 'Chennai faces heavy rainfall this week.', '2024-09-04'),\n",
    "            (5, 'Kolkata', 'Kolkata hosts an international film festival.', '2024-09-05')\n",
    "        ]\n",
    "        \n",
    "        try:\n",
    "            cursor.executemany(insert_news_data, news_data)\n",
    "            conn.commit()  # Commit the transaction\n",
    "            print(\"5 rows of data inserted into `news` table\")\n",
    "        except Error as insert_error:\n",
    "            print(f\"Error while inserting data: {insert_error}\")\n",
    "            conn.rollback()  # Rollback the transaction if there's an error\n",
    "\n",
    "except Error as e:\n",
    "    print(f\"Error: {e}\")\n",
    "\n"
   ]
  },
  {
   "cell_type": "code",
   "execution_count": 7,
   "id": "5d982753",
   "metadata": {},
   "outputs": [
    {
     "name": "stdout",
     "output_type": "stream",
     "text": [
      "(1, 1, 'Delhi', 'Delhi government announces new policies.', datetime.date(2024, 9, 1))\n",
      "(2, 2, 'Mumbai', 'Mumbai sees a rise in local events this month.', datetime.date(2024, 9, 2))\n",
      "(3, 3, 'Bengaluru', 'Tech startups in Bengaluru receive new funding.', datetime.date(2024, 9, 3))\n",
      "(4, 4, 'Chennai', 'Chennai faces heavy rainfall this week.', datetime.date(2024, 9, 4))\n",
      "(5, 5, 'Kolkata', 'Kolkata hosts an international film festival.', datetime.date(2024, 9, 5))\n"
     ]
    }
   ],
   "source": [
    "# Retrieving rows from the `news` table\n",
    "select_query = \"SELECT * FROM news\"\n",
    "\n",
    "# Executing the query\n",
    "cursor.execute(select_query)\n",
    "\n",
    "# Fetching all rows from the table\n",
    "results = cursor.fetchall() \n",
    "for row in results:\n",
    "        print(row)       \n"
   ]
  },
  {
   "cell_type": "code",
   "execution_count": 8,
   "id": "82d77846",
   "metadata": {},
   "outputs": [
    {
     "name": "stdout",
     "output_type": "stream",
     "text": [
      "Data transferred successfully from `news` to `kf_docmnt`\n"
     ]
    }
   ],
   "source": [
    "# Retreving rows from the `news` table\n",
    "select_query= \"SELECT * FROM news\"\n",
    "\n",
    "# Execute the query\n",
    "cursor.execute(select_query)\n",
    "\n",
    "# Fetching all rows from the table\n",
    "results =cursor.fetchall()\n",
    "\n",
    "# Query to insert data into the `kf_docmnt` table\n",
    "\n",
    "insert_query =\"\"\"\n",
    "INSERT INTO kf_docmnt (portalid, town, news, date)\n",
    "VALUES (%s, %s, %s, %s)\n",
    "\"\"\"\n",
    "\n",
    "# Loop through each row from `news` and insert into `kf_docmnt`\n",
    "for row in results:\n",
    "    cursor.execute (insert_query, (row[1], row[2], row[3], row[4])) # Assuming columns match in order\n",
    "    conn.commit() # commit each insert\n",
    "print(\"Data transferred successfully from `news` to `kf_docmnt`\")\n",
    "\n",
    "        "
   ]
  },
  {
   "cell_type": "code",
   "execution_count": 9,
   "id": "6ea12041",
   "metadata": {},
   "outputs": [
    {
     "name": "stdout",
     "output_type": "stream",
     "text": [
      "(1, 1, 'Delhi', 'Delhi government announces new policies.', datetime.date(2024, 9, 1))\n",
      "(2, 2, 'Mumbai', 'Mumbai sees a rise in local events this month.', datetime.date(2024, 9, 2))\n",
      "(3, 3, 'Bengaluru', 'Tech startups in Bengaluru receive new funding.', datetime.date(2024, 9, 3))\n",
      "(4, 4, 'Chennai', 'Chennai faces heavy rainfall this week.', datetime.date(2024, 9, 4))\n",
      "(5, 5, 'Kolkata', 'Kolkata hosts an international film festival.', datetime.date(2024, 9, 5))\n"
     ]
    }
   ],
   "source": [
    "# Retrieving rows from the `kf_docmnt` table\n",
    "select_query = \"SELECT * FROM kf_docmnt\"\n",
    "\n",
    "# Executing the query\n",
    "cursor.execute(select_query)\n",
    "\n",
    "# Fetching all rows from the table\n",
    "results = cursor.fetchall() \n",
    "for row in results:\n",
    "        print(row) \n",
    "        "
   ]
  },
  {
   "cell_type": "code",
   "execution_count": 10,
   "id": "10c89cdb",
   "metadata": {},
   "outputs": [],
   "source": [
    "#closing the connection\n",
    "conn.close()"
   ]
  },
  {
   "cell_type": "code",
   "execution_count": null,
   "id": "e4ef5ad5",
   "metadata": {},
   "outputs": [],
   "source": []
  }
 ],
 "metadata": {
  "kernelspec": {
   "display_name": "Python 3 (ipykernel)",
   "language": "python",
   "name": "python3"
  },
  "language_info": {
   "codemirror_mode": {
    "name": "ipython",
    "version": 3
   },
   "file_extension": ".py",
   "mimetype": "text/x-python",
   "name": "python",
   "nbconvert_exporter": "python",
   "pygments_lexer": "ipython3",
   "version": "3.11.5"
  }
 },
 "nbformat": 4,
 "nbformat_minor": 5
}
